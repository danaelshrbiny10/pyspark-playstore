{
  "nbformat": 4,
  "nbformat_minor": 0,
  "metadata": {
    "colab": {
      "provenance": []
    },
    "kernelspec": {
      "name": "python3",
      "display_name": "Python 3"
    },
    "language_info": {
      "name": "python"
    }
  },
  "cells": [
    {
      "cell_type": "markdown",
      "source": [
        "This is a Python script performs analysis on a Google Play Store dataset. It aims to extract insights such as top app reviews, distribution of installed apps, top paid apps, etc., from the dataset.\n",
        "\n",
        "**Dependencies:**\n",
        "- pandas\n",
        "- pyspark\n",
        "- Apache Spark (and Hadoop for local setup)"
      ],
      "metadata": {
        "id": "z5vjwtH4Rc0y"
      }
    },
    {
      "cell_type": "markdown",
      "source": [
        "## requirements"
      ],
      "metadata": {
        "id": "r77HqLs6IDL1"
      }
    },
    {
      "cell_type": "code",
      "source": [
        "!pip install pyspark\n"
      ],
      "metadata": {
        "colab": {
          "base_uri": "https://localhost:8080/"
        },
        "id": "zKgWy1_bH_XE",
        "outputId": "d01736bb-049a-4172-a105-f322edbcef5b"
      },
      "execution_count": null,
      "outputs": [
        {
          "output_type": "stream",
          "name": "stdout",
          "text": [
            "Requirement already satisfied: pyspark in /usr/local/lib/python3.10/dist-packages (3.5.1)\n",
            "Requirement already satisfied: py4j==0.10.9.7 in /usr/local/lib/python3.10/dist-packages (from pyspark) (0.10.9.7)\n"
          ]
        }
      ]
    },
    {
      "cell_type": "markdown",
      "source": [
        "## import libraries"
      ],
      "metadata": {
        "id": "fj0rRyn5HMeN"
      }
    },
    {
      "cell_type": "code",
      "execution_count": null,
      "metadata": {
        "id": "8x2pWiGYHKmo"
      },
      "outputs": [],
      "source": [
        "import pyspark\n",
        "from pyspark.sql import SparkSession\n",
        "from pyspark.sql.functions import *\n",
        "from pyspark.sql.types import *\n",
        "import sys\n",
        "import pandas as pd\n",
        "import tempfile"
      ]
    },
    {
      "cell_type": "markdown",
      "source": [
        "## Determine the encoding of your system"
      ],
      "metadata": {
        "id": "xyTvdVc0LfgW"
      }
    },
    {
      "cell_type": "code",
      "source": [
        "encoding = sys.getdefaultencoding()\n"
      ],
      "metadata": {
        "id": "NRaqClFxLiXC"
      },
      "execution_count": null,
      "outputs": []
    },
    {
      "cell_type": "markdown",
      "source": [
        "## Initialize SparkSession"
      ],
      "metadata": {
        "id": "z2UCaa6QHSgx"
      }
    },
    {
      "cell_type": "code",
      "source": [
        "spark = SparkSession.builder \\\n",
        "    .appName(\"realtime\") \\\n",
        "    .config(\"spark.driver.extraClassPath\", \"/path/to/spark-excel_2.12-0.13.1.jar\") \\\n",
        "    .config(\"spark.executor.extraClassPath\", \"/path/to/spark-excel_2.12-0.13.1.jar\") \\\n",
        "    .getOrCreate()\n"
      ],
      "metadata": {
        "id": "OKirGWzFHQa9"
      },
      "execution_count": null,
      "outputs": []
    },
    {
      "cell_type": "markdown",
      "source": [
        "## create dataframe"
      ],
      "metadata": {
        "id": "hAk3eBMWHWwk"
      }
    },
    {
      "cell_type": "code",
      "source": [
        "df = spark.read.csv(\"data/googlestore.csv\", header=True, sep=\",\", escape='\"')"
      ],
      "metadata": {
        "id": "pUKXMm81HaMK"
      },
      "execution_count": null,
      "outputs": []
    },
    {
      "cell_type": "code",
      "source": [
        "print(df.count())"
      ],
      "metadata": {
        "colab": {
          "base_uri": "https://localhost:8080/"
        },
        "id": "aPFalFUMITNr",
        "outputId": "e6f93334-d885-4ea7-9574-97e87e6dd3e1"
      },
      "execution_count": null,
      "outputs": [
        {
          "output_type": "stream",
          "name": "stdout",
          "text": [
            "10841\n"
          ]
        }
      ]
    },
    {
      "cell_type": "code",
      "source": [
        "print(df.show(1))"
      ],
      "metadata": {
        "colab": {
          "base_uri": "https://localhost:8080/"
        },
        "id": "Y-i2-p3nNwvb",
        "outputId": "4bbf9121-2e2a-468a-b561-d7713de4ad6c"
      },
      "execution_count": null,
      "outputs": [
        {
          "output_type": "stream",
          "name": "stdout",
          "text": [
            "+--------------------+--------------+------+-------+----+--------+----+-----+--------------+------------+---------------+-----------+------------+\n",
            "|                 App|      Category|Rating|Reviews|Size|Installs|Type|Price|Content Rating|      Genres|   Last Updated|Current Ver| Android Ver|\n",
            "+--------------------+--------------+------+-------+----+--------+----+-----+--------------+------------+---------------+-----------+------------+\n",
            "|Photo Editor & Ca...|ART_AND_DESIGN|   4.1|    159| 19M| 10,000+|Free|    0|      Everyone|Art & Design|January 7, 2018|      1.0.0|4.0.3 and up|\n",
            "+--------------------+--------------+------+-------+----+--------+----+-----+--------------+------------+---------------+-----------+------------+\n",
            "only showing top 1 row\n",
            "\n",
            "None\n"
          ]
        }
      ]
    },
    {
      "cell_type": "markdown",
      "source": [
        "## check schema"
      ],
      "metadata": {
        "id": "xYEDBF3pHeFo"
      }
    },
    {
      "cell_type": "code",
      "source": [
        "print(df.printSchema())"
      ],
      "metadata": {
        "colab": {
          "base_uri": "https://localhost:8080/"
        },
        "id": "LNvEMLzvLyHC",
        "outputId": "9ab5208d-1122-45aa-91dd-06d0df531724"
      },
      "execution_count": null,
      "outputs": [
        {
          "output_type": "stream",
          "name": "stdout",
          "text": [
            "root\n",
            " |-- App: string (nullable = true)\n",
            " |-- Category: string (nullable = true)\n",
            " |-- Rating: string (nullable = true)\n",
            " |-- Reviews: string (nullable = true)\n",
            " |-- Size: string (nullable = true)\n",
            " |-- Installs: string (nullable = true)\n",
            " |-- Type: string (nullable = true)\n",
            " |-- Price: string (nullable = true)\n",
            " |-- Content Rating: string (nullable = true)\n",
            " |-- Genres: string (nullable = true)\n",
            " |-- Last Updated: string (nullable = true)\n",
            " |-- Current Ver: string (nullable = true)\n",
            " |-- Android Ver: string (nullable = true)\n",
            "\n",
            "None\n"
          ]
        }
      ]
    },
    {
      "cell_type": "markdown",
      "source": [
        "## data cleaning\n"
      ],
      "metadata": {
        "id": "l4NeEaekOiVT"
      }
    },
    {
      "cell_type": "code",
      "source": [
        "df = df.drop('Size', 'Content Rating', 'Last Updated', 'Current Ver', 'Android Ver')"
      ],
      "metadata": {
        "id": "7XNQg7_3Mbez"
      },
      "execution_count": null,
      "outputs": []
    },
    {
      "cell_type": "code",
      "source": [
        "print(df)"
      ],
      "metadata": {
        "colab": {
          "base_uri": "https://localhost:8080/"
        },
        "id": "5_s7pATGPD7A",
        "outputId": "b7694113-a866-407a-9a14-1cb48192a6a5"
      },
      "execution_count": null,
      "outputs": [
        {
          "output_type": "stream",
          "name": "stdout",
          "text": [
            "DataFrame[App: string, Category: string, Rating: string, Reviews: string, Installs: string, Type: string, Price: string, Genres: string]\n"
          ]
        }
      ]
    },
    {
      "cell_type": "code",
      "source": [
        "print(df.show(2))"
      ],
      "metadata": {
        "colab": {
          "base_uri": "https://localhost:8080/"
        },
        "id": "2DsrwR0YPEl9",
        "outputId": "6f7ab404-f8e7-4410-a7c3-e3f6203359ae"
      },
      "execution_count": null,
      "outputs": [
        {
          "output_type": "stream",
          "name": "stdout",
          "text": [
            "+--------------------+--------------+------+-------+--------+----+-----+--------------------+\n",
            "|                 App|      Category|Rating|Reviews|Installs|Type|Price|              Genres|\n",
            "+--------------------+--------------+------+-------+--------+----+-----+--------------------+\n",
            "|Photo Editor & Ca...|ART_AND_DESIGN|   4.1|    159| 10,000+|Free|    0|        Art & Design|\n",
            "| Coloring book moana|ART_AND_DESIGN|   3.9|    967|500,000+|Free|    0|Art & Design;Pret...|\n",
            "+--------------------+--------------+------+-------+--------+----+-----+--------------------+\n",
            "only showing top 2 rows\n",
            "\n",
            "None\n"
          ]
        }
      ]
    },
    {
      "cell_type": "code",
      "source": [
        "print(df.printSchema())"
      ],
      "metadata": {
        "colab": {
          "base_uri": "https://localhost:8080/"
        },
        "id": "ctvwPZXZPh_R",
        "outputId": "ef446766-77de-4128-adc1-d89380a4aae9"
      },
      "execution_count": null,
      "outputs": [
        {
          "output_type": "stream",
          "name": "stdout",
          "text": [
            "root\n",
            " |-- App: string (nullable = true)\n",
            " |-- Category: string (nullable = true)\n",
            " |-- Rating: string (nullable = true)\n",
            " |-- Reviews: string (nullable = true)\n",
            " |-- Installs: string (nullable = true)\n",
            " |-- Type: string (nullable = true)\n",
            " |-- Price: string (nullable = true)\n",
            " |-- Genres: string (nullable = true)\n",
            "\n",
            "None\n"
          ]
        }
      ]
    },
    {
      "cell_type": "code",
      "source": [
        "df = df.withColumn('Reviews', col('Reviews').cast(IntegerType())) \\\n",
        "       .withColumn(\"Installs\", regexp_replace(col('Installs'), \"[^0-9]\", \"\")) \\\n",
        "       .withColumn('Installs', col('Installs').cast(IntegerType())) \\\n",
        "       .withColumn(\"Price\", regexp_replace(col('Price'), \"[$]\", \"\")) \\\n",
        "       .withColumn('Price', col('Price').cast(IntegerType()))"
      ],
      "metadata": {
        "id": "zgMSKrJNR-LA"
      },
      "execution_count": null,
      "outputs": []
    },
    {
      "cell_type": "code",
      "source": [
        "print(df.show(5))"
      ],
      "metadata": {
        "colab": {
          "base_uri": "https://localhost:8080/"
        },
        "id": "5cIretYdXN3w",
        "outputId": "24568e2d-8f52-42b4-eeb3-9bfc33b8cd01"
      },
      "execution_count": null,
      "outputs": [
        {
          "output_type": "stream",
          "name": "stdout",
          "text": [
            "+--------------------+--------------+------+-------+--------+----+-----+--------------------+\n",
            "|                 App|      Category|Rating|Reviews|Installs|Type|Price|              Genres|\n",
            "+--------------------+--------------+------+-------+--------+----+-----+--------------------+\n",
            "|Photo Editor & Ca...|ART_AND_DESIGN|   4.1|    159|   10000|Free|    0|        Art & Design|\n",
            "| Coloring book moana|ART_AND_DESIGN|   3.9|    967|  500000|Free|    0|Art & Design;Pret...|\n",
            "|U Launcher Lite �...|ART_AND_DESIGN|   4.7|  87510| 5000000|Free|    0|        Art & Design|\n",
            "|Sketch - Draw & P...|ART_AND_DESIGN|   4.5| 215644|50000000|Free|    0|        Art & Design|\n",
            "|Pixel Draw - Numb...|ART_AND_DESIGN|   4.3|    967|  100000|Free|    0|Art & Design;Crea...|\n",
            "+--------------------+--------------+------+-------+--------+----+-----+--------------------+\n",
            "only showing top 5 rows\n",
            "\n",
            "None\n"
          ]
        }
      ]
    },
    {
      "cell_type": "code",
      "source": [
        "df.createOrReplaceTempView(\"apps\")"
      ],
      "metadata": {
        "id": "o44MuwEebBZa"
      },
      "execution_count": null,
      "outputs": []
    },
    {
      "cell_type": "markdown",
      "source": [
        "##  SQL Select query"
      ],
      "metadata": {
        "id": "NX8JDt-8f5N3"
      }
    },
    {
      "cell_type": "markdown",
      "source": [
        "**load and activate the SQL extention to allow us to execute SQL in notebook**"
      ],
      "metadata": {
        "id": "o-m0TnGLhKCR"
      }
    },
    {
      "cell_type": "code",
      "source": [
        "%load_ext sql"
      ],
      "metadata": {
        "colab": {
          "base_uri": "https://localhost:8080/"
        },
        "id": "b8xHEmwchFdc",
        "outputId": "b91904c5-105f-41a5-f95b-a0f80b5d01f4"
      },
      "execution_count": null,
      "outputs": [
        {
          "output_type": "stream",
          "name": "stdout",
          "text": [
            "The sql extension is already loaded. To reload it, use:\n",
            "  %reload_ext sql\n"
          ]
        }
      ]
    },
    {
      "cell_type": "code",
      "source": [
        "%sql sqlite:///googlestore.db\n"
      ],
      "metadata": {
        "id": "X6wL0zx9oMje"
      },
      "execution_count": null,
      "outputs": []
    },
    {
      "cell_type": "code",
      "source": [
        "%sql select * from apps"
      ],
      "metadata": {
        "colab": {
          "base_uri": "https://localhost:8080/"
        },
        "id": "YjIQXevyhe2v",
        "outputId": "61f3acf0-3b47-41e6-f9f0-9a52f700a919"
      },
      "execution_count": null,
      "outputs": [
        {
          "output_type": "stream",
          "name": "stdout",
          "text": [
            " * sqlite:///googlestore.db\n",
            "(sqlite3.OperationalError) no such table: apps\n",
            "[SQL: select * from apps]\n",
            "(Background on this error at: https://sqlalche.me/e/20/e3q8)\n"
          ]
        }
      ]
    },
    {
      "cell_type": "code",
      "source": [
        "spark.sql(\"SELECT * from apps\") \\\n",
        ".show()"
      ],
      "metadata": {
        "colab": {
          "base_uri": "https://localhost:8080/"
        },
        "id": "rvZTI2XEfxpN",
        "outputId": "bc161079-252b-44b5-88e9-d8415810b68b"
      },
      "execution_count": null,
      "outputs": [
        {
          "output_type": "stream",
          "name": "stdout",
          "text": [
            "+--------------------+--------------+------+-------+--------+----+-----+--------------------+\n",
            "|                 App|      Category|Rating|Reviews|Installs|Type|Price|              Genres|\n",
            "+--------------------+--------------+------+-------+--------+----+-----+--------------------+\n",
            "|Photo Editor & Ca...|ART_AND_DESIGN|   4.1|    159|   10000|Free|    0|        Art & Design|\n",
            "| Coloring book moana|ART_AND_DESIGN|   3.9|    967|  500000|Free|    0|Art & Design;Pret...|\n",
            "|U Launcher Lite �...|ART_AND_DESIGN|   4.7|  87510| 5000000|Free|    0|        Art & Design|\n",
            "|Sketch - Draw & P...|ART_AND_DESIGN|   4.5| 215644|50000000|Free|    0|        Art & Design|\n",
            "|Pixel Draw - Numb...|ART_AND_DESIGN|   4.3|    967|  100000|Free|    0|Art & Design;Crea...|\n",
            "|Paper flowers ins...|ART_AND_DESIGN|   4.4|    167|   50000|Free|    0|        Art & Design|\n",
            "|Smoke Effect Phot...|ART_AND_DESIGN|   3.8|    178|   50000|Free|    0|        Art & Design|\n",
            "|    Infinite Painter|ART_AND_DESIGN|   4.1|  36815| 1000000|Free|    0|        Art & Design|\n",
            "|Garden Coloring Book|ART_AND_DESIGN|   4.4|  13791| 1000000|Free|    0|        Art & Design|\n",
            "|Kids Paint Free -...|ART_AND_DESIGN|   4.7|    121|   10000|Free|    0|Art & Design;Crea...|\n",
            "|Text on Photo - F...|ART_AND_DESIGN|   4.4|  13880| 1000000|Free|    0|        Art & Design|\n",
            "|Name Art Photo Ed...|ART_AND_DESIGN|   4.4|   8788| 1000000|Free|    0|        Art & Design|\n",
            "|Tattoo Name On My...|ART_AND_DESIGN|   4.2|  44829|10000000|Free|    0|        Art & Design|\n",
            "|Mandala Coloring ...|ART_AND_DESIGN|   4.6|   4326|  100000|Free|    0|        Art & Design|\n",
            "|3D Color Pixel by...|ART_AND_DESIGN|   4.4|   1518|  100000|Free|    0|        Art & Design|\n",
            "|Learn To Draw Kaw...|ART_AND_DESIGN|   3.2|     55|    5000|Free|    0|        Art & Design|\n",
            "|Photo Designer - ...|ART_AND_DESIGN|   4.7|   3632|  500000|Free|    0|        Art & Design|\n",
            "|350 Diy Room Deco...|ART_AND_DESIGN|   4.5|     27|   10000|Free|    0|        Art & Design|\n",
            "|FlipaClip - Carto...|ART_AND_DESIGN|   4.3| 194216| 5000000|Free|    0|        Art & Design|\n",
            "|        ibis Paint X|ART_AND_DESIGN|   4.6| 224399|10000000|Free|    0|        Art & Design|\n",
            "+--------------------+--------------+------+-------+--------+----+-----+--------------------+\n",
            "only showing top 20 rows\n",
            "\n"
          ]
        }
      ]
    },
    {
      "cell_type": "markdown",
      "source": [
        "## top reviews given to apps"
      ],
      "metadata": {
        "id": "3iqumH6gfjKF"
      }
    },
    {
      "cell_type": "code",
      "source": [
        "%sql select App.sum(Reviews) from apps group by 1 order by 2 desc"
      ],
      "metadata": {
        "colab": {
          "base_uri": "https://localhost:8080/"
        },
        "id": "s-K-x2qIfxBX",
        "outputId": "bb13d26f-19e3-4e3a-db4c-6cc5c179f00b"
      },
      "execution_count": null,
      "outputs": [
        {
          "output_type": "stream",
          "name": "stdout",
          "text": [
            " * sqlite:///googlestore.db\n",
            "(sqlite3.OperationalError) near \"(\": syntax error\n",
            "[SQL: select App.sum(Reviews) from apps group by 1 order by 2 desc]\n",
            "(Background on this error at: https://sqlalche.me/e/20/e3q8)\n"
          ]
        }
      ]
    },
    {
      "cell_type": "code",
      "source": [],
      "metadata": {
        "id": "wHGfXXuZe0dH"
      },
      "execution_count": null,
      "outputs": []
    }
  ]
}