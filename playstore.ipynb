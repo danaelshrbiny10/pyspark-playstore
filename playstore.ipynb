{
  "cells": [
    {
      "cell_type": "markdown",
      "metadata": {
        "id": "z5vjwtH4Rc0y"
      },
      "source": [
        "This is a Python script performs analysis on a Google Play Store dataset. It aims to extract insights such as top app reviews, distribution of installed apps, top paid apps, etc., from the dataset.\n",
        "\n",
        "**Dependencies:**\n",
        "- pandas\n",
        "- pyspark\n",
        "- Apache Spark (and Hadoop for local setup)"
      ]
    },
    {
      "cell_type": "markdown",
      "metadata": {
        "id": "r77HqLs6IDL1"
      },
      "source": [
        "## requirements"
      ]
    },
    {
      "cell_type": "code",
      "execution_count": 1,
      "metadata": {
        "id": "zKgWy1_bH_XE"
      },
      "outputs": [
        {
          "name": "stdout",
          "output_type": "stream",
          "text": [
            "Requirement already satisfied: pyspark in g:\\colleage\\helwan university\\semester 2\\advanced big data\\spark\\google-playstore-analysis\\env\\lib\\site-packages (3.5.1)\n",
            "Requirement already satisfied: py4j==0.10.9.7 in g:\\colleage\\helwan university\\semester 2\\advanced big data\\spark\\google-playstore-analysis\\env\\lib\\site-packages (from pyspark) (0.10.9.7)\n",
            "Note: you may need to restart the kernel to use updated packages.\n"
          ]
        }
      ],
      "source": [
        "%pip install pyspark\n"
      ]
    },
    {
      "cell_type": "markdown",
      "metadata": {
        "id": "fj0rRyn5HMeN"
      },
      "source": [
        "## import libraries"
      ]
    },
    {
      "cell_type": "code",
      "execution_count": 2,
      "metadata": {
        "id": "8x2pWiGYHKmo"
      },
      "outputs": [],
      "source": [
        "import pyspark\n",
        "from pyspark.sql import SparkSession\n",
        "from pyspark.sql.functions import *\n",
        "from pyspark.sql.types import *\n",
        "import pandas as pd\n",
        "import matplotlib.pyplot as plt"
      ]
    },
    {
      "cell_type": "markdown",
      "metadata": {
        "id": "z2UCaa6QHSgx"
      },
      "source": [
        "## Initialize SparkSession"
      ]
    },
    {
      "cell_type": "code",
      "execution_count": null,
      "metadata": {
        "id": "OKirGWzFHQa9"
      },
      "outputs": [],
      "source": [
        "spark = SparkSession.builder \\\n",
        "    .appName(\"playstore\") \\\n",
        "    .getOrCreate()\n"
      ]
    },
    {
      "cell_type": "markdown",
      "metadata": {
        "id": "hAk3eBMWHWwk"
      },
      "source": [
        "## create dataframe"
      ]
    },
    {
      "cell_type": "code",
      "execution_count": null,
      "metadata": {
        "id": "pUKXMm81HaMK"
      },
      "outputs": [],
      "source": [
        "df = spark.read.csv(\"data/googlestore.csv\", header=True, sep=\",\", escape='\"')"
      ]
    },
    {
      "cell_type": "code",
      "execution_count": null,
      "metadata": {
        "colab": {
          "base_uri": "https://localhost:8080/"
        },
        "id": "aPFalFUMITNr",
        "outputId": "7a9e4efb-030c-41ca-93cc-04bba92062e5"
      },
      "outputs": [],
      "source": [
        "print(df.count())"
      ]
    },
    {
      "cell_type": "code",
      "execution_count": null,
      "metadata": {
        "colab": {
          "base_uri": "https://localhost:8080/"
        },
        "id": "Y-i2-p3nNwvb",
        "outputId": "86f136c5-ca5c-47c5-ef22-3b0819377ef1"
      },
      "outputs": [],
      "source": [
        "print(df.show(1))"
      ]
    },
    {
      "cell_type": "markdown",
      "metadata": {
        "id": "xYEDBF3pHeFo"
      },
      "source": [
        "## check schema"
      ]
    },
    {
      "cell_type": "code",
      "execution_count": null,
      "metadata": {
        "colab": {
          "base_uri": "https://localhost:8080/"
        },
        "id": "LNvEMLzvLyHC",
        "outputId": "0cb6b10e-9dbf-49ff-df48-03ad1085b468"
      },
      "outputs": [],
      "source": [
        "print(df.printSchema())"
      ]
    },
    {
      "cell_type": "markdown",
      "metadata": {
        "id": "l4NeEaekOiVT"
      },
      "source": [
        "## data cleaning\n"
      ]
    },
    {
      "cell_type": "code",
      "execution_count": null,
      "metadata": {
        "id": "7XNQg7_3Mbez"
      },
      "outputs": [],
      "source": [
        "df = df.drop('Size', 'Content Rating', 'Last Updated', 'Current Ver', 'Android Ver')"
      ]
    },
    {
      "cell_type": "code",
      "execution_count": null,
      "metadata": {
        "colab": {
          "base_uri": "https://localhost:8080/"
        },
        "id": "5_s7pATGPD7A",
        "outputId": "bfc2e646-d0bc-465a-ffab-f8336647d630"
      },
      "outputs": [],
      "source": [
        "print(df)"
      ]
    },
    {
      "cell_type": "code",
      "execution_count": null,
      "metadata": {
        "colab": {
          "base_uri": "https://localhost:8080/"
        },
        "id": "2DsrwR0YPEl9",
        "outputId": "693715aa-4c2f-40b2-db7c-80ff7a89a848"
      },
      "outputs": [],
      "source": [
        "print(df.show(2))"
      ]
    },
    {
      "cell_type": "code",
      "execution_count": null,
      "metadata": {
        "colab": {
          "base_uri": "https://localhost:8080/"
        },
        "id": "ctvwPZXZPh_R",
        "outputId": "1fbba170-8ad8-4264-f629-5460f75e4abe"
      },
      "outputs": [],
      "source": [
        "print(df.printSchema())"
      ]
    },
    {
      "cell_type": "code",
      "execution_count": null,
      "metadata": {
        "id": "zgMSKrJNR-LA"
      },
      "outputs": [],
      "source": [
        "df = df.withColumn('Reviews', col('Reviews').cast(IntegerType())) \\\n",
        "       .withColumn(\"Installs\", regexp_replace(col('Installs'), \"[^0-9]\", \"\")) \\\n",
        "       .withColumn('Installs', col('Installs').cast(IntegerType())) \\\n",
        "       .withColumn(\"Price\", regexp_replace(col('Price'), \"[$]\", \"\")) \\\n",
        "       .withColumn('Price', col('Price').cast(IntegerType())) \\\n",
        "       .withColumn(\"Rating\", regexp_replace(col('Rating'), \"[$]\", \"\")) \\\n",
        "       .withColumn('Rating', col('Rating').cast(IntegerType()))\n"
      ]
    },
    {
      "cell_type": "code",
      "execution_count": null,
      "metadata": {
        "colab": {
          "base_uri": "https://localhost:8080/"
        },
        "id": "5cIretYdXN3w",
        "outputId": "5e8666c7-8561-4f91-a22c-adad6dee142c"
      },
      "outputs": [],
      "source": [
        "print(df.show(5))"
      ]
    },
    {
      "cell_type": "code",
      "execution_count": null,
      "metadata": {
        "id": "o44MuwEebBZa"
      },
      "outputs": [],
      "source": [
        "df.createOrReplaceTempView(\"apps\")"
      ]
    },
    {
      "cell_type": "markdown",
      "metadata": {
        "id": "NX8JDt-8f5N3"
      },
      "source": [
        "##  SQL Select query"
      ]
    },
    {
      "cell_type": "markdown",
      "metadata": {
        "id": "o-m0TnGLhKCR"
      },
      "source": [
        "**load and activate the SQL extention to allow us to execute SQL in notebook**"
      ]
    },
    {
      "cell_type": "code",
      "execution_count": null,
      "metadata": {
        "id": "b8xHEmwchFdc"
      },
      "outputs": [],
      "source": [
        "%load_ext sql"
      ]
    },
    {
      "cell_type": "code",
      "execution_count": null,
      "metadata": {
        "colab": {
          "base_uri": "https://localhost:8080/"
        },
        "id": "rvZTI2XEfxpN",
        "outputId": "fdc33d80-02c8-4e38-cd5c-df6e6602e34a"
      },
      "outputs": [],
      "source": [
        "spark.sql(\"SELECT * from apps\") \\\n",
        ".show()"
      ]
    },
    {
      "cell_type": "markdown",
      "metadata": {
        "id": "3iqumH6gfjKF"
      },
      "source": [
        "## top reviews given to apps"
      ]
    },
    {
      "cell_type": "code",
      "execution_count": null,
      "metadata": {
        "id": "GDpwoMKH6VjT"
      },
      "outputs": [],
      "source": [
        "reviews = spark.sql(\"SELECT App, SUM(Reviews) AS TotalReviews FROM apps GROUP BY App ORDER BY TotalReviews DESC\")"
      ]
    },
    {
      "cell_type": "code",
      "execution_count": null,
      "metadata": {
        "colab": {
          "base_uri": "https://localhost:8080/"
        },
        "id": "SpSiKQwCCDko",
        "outputId": "bee2160c-3625-4aee-9c8a-c2d71d9d4c13"
      },
      "outputs": [],
      "source": [
        "reviews.show()"
      ]
    },
    {
      "cell_type": "code",
      "execution_count": null,
      "metadata": {
        "id": "Nar_-DcQ_6JC"
      },
      "outputs": [],
      "source": [
        "# Convert Spark DataFrame to Pandas DataFrame\n",
        "df_reviews = reviews.toPandas()"
      ]
    },
    {
      "cell_type": "code",
      "execution_count": null,
      "metadata": {
        "colab": {
          "base_uri": "https://localhost:8080/",
          "height": 1000
        },
        "id": "voZ3o3aTAAel",
        "outputId": "4f1f7017-cec0-41ae-ccf6-76e536173de7"
      },
      "outputs": [],
      "source": [
        "# Create a bar chart of the top reviewed apps\n",
        "plt.figure(figsize=(15, 10))\n",
        "plt.bar(df_reviews['App'][:10], df_reviews['TotalReviews'][:10])\n",
        "plt.title('Top Reviewed Apps')\n",
        "plt.xlabel('App Name')\n",
        "plt.ylabel('Total Reviews')\n",
        "plt.xticks(rotation=90)\n",
        "plt.show()"
      ]
    },
    {
      "cell_type": "code",
      "execution_count": null,
      "metadata": {
        "colab": {
          "base_uri": "https://localhost:8080/",
          "height": 682
        },
        "id": "6dVu77W-CXRI",
        "outputId": "d92f2319-baac-4d2b-fcd9-1df6caa209f1"
      },
      "outputs": [],
      "source": [
        "# Top 10 reviewed apps\n",
        "top_10_apps = df_reviews.head(10)\n",
        "\n",
        "# Plotting the pie chart\n",
        "plt.figure(figsize=(10, 8))\n",
        "plt.pie(top_10_apps['TotalReviews'], labels=top_10_apps['App'], autopct='%1.1f%%', startangle=140)\n",
        "plt.title('Distribution of Total Reviews Among Top Reviewed Apps')\n",
        "plt.axis('equal')  # Equal aspect ratio ensures that pie is drawn as a circle\n",
        "plt.show()"
      ]
    },
    {
      "cell_type": "markdown",
      "metadata": {
        "id": "8DOXweSE69-U"
      },
      "source": [
        "## top 10 installs apps"
      ]
    },
    {
      "cell_type": "code",
      "execution_count": null,
      "metadata": {
        "id": "wHGfXXuZe0dH"
      },
      "outputs": [],
      "source": [
        "installs = spark.sql(\"SELECT App, Type, SUM(Installs) FROM apps GROUP BY 1,2 ORDER BY 3 DESC\")\n"
      ]
    },
    {
      "cell_type": "code",
      "execution_count": null,
      "metadata": {
        "colab": {
          "base_uri": "https://localhost:8080/"
        },
        "id": "q4yUpyNvCgwx",
        "outputId": "660d332d-197f-416f-eafc-f4625196bfdb"
      },
      "outputs": [],
      "source": [
        "installs.show()"
      ]
    },
    {
      "cell_type": "code",
      "execution_count": null,
      "metadata": {
        "id": "owIvjAlhC3dQ"
      },
      "outputs": [],
      "source": [
        "# Convert Spark DataFrame to Pandas DataFrame\n",
        "df_installs = installs.toPandas()"
      ]
    },
    {
      "cell_type": "code",
      "execution_count": null,
      "metadata": {
        "colab": {
          "base_uri": "https://localhost:8080/",
          "height": 922
        },
        "id": "e3V9tpUUDKse",
        "outputId": "38fe3c04-37d4-4fcf-e1cb-3e37de7667dc"
      },
      "outputs": [],
      "source": [
        "# Create a bar chart of the top installed apps\n",
        "plt.figure(figsize=(15, 10))\n",
        "plt.bar(df_installs['App'][:10], df_installs['sum(Installs)'][:10])\n",
        "plt.title('Top Installed Apps')\n",
        "plt.xlabel('App Name')\n",
        "plt.ylabel('Total Installs')\n",
        "plt.xticks(rotation=90)\n",
        "plt.show()\n"
      ]
    },
    {
      "cell_type": "code",
      "execution_count": null,
      "metadata": {
        "colab": {
          "base_uri": "https://localhost:8080/",
          "height": 675
        },
        "id": "7krwucSpFKwJ",
        "outputId": "74479536-5a28-413e-80a8-9133d6a7d75d"
      },
      "outputs": [],
      "source": [
        "# Extracting relevant data for the pie chart\n",
        "top_apps = df_installs['App'][:10]\n",
        "installs = df_installs['sum(Installs)'][:10]\n",
        "\n",
        "# Create a pie chart of the top installed apps\n",
        "plt.figure(figsize=(10, 8))\n",
        "plt.pie(installs, labels=top_apps, autopct='%1.1f%%', startangle=140)\n",
        "plt.title('Top Installed Apps Distribution')\n",
        "plt.axis('equal')  # Equal aspect ratio ensures that pie is drawn as a circle.\n",
        "plt.show()\n"
      ]
    },
    {
      "cell_type": "markdown",
      "metadata": {
        "id": "tDsensiw8hTA"
      },
      "source": [
        "## Category-wise Distribution of Installed Apps"
      ]
    },
    {
      "cell_type": "code",
      "execution_count": null,
      "metadata": {
        "id": "wEnzTAeh8iml"
      },
      "outputs": [],
      "source": [
        "Category = spark.sql(\"SELECT Category, SUM(Installs) FROM apps GROUP BY 1 ORDER BY 2 DESC\")\n"
      ]
    },
    {
      "cell_type": "code",
      "execution_count": null,
      "metadata": {
        "colab": {
          "base_uri": "https://localhost:8080/"
        },
        "id": "NoEu34xxCnAZ",
        "outputId": "d3d4cbcc-1adf-4d84-d50a-2e0065af1dda"
      },
      "outputs": [],
      "source": [
        "Category.show()"
      ]
    },
    {
      "cell_type": "code",
      "execution_count": null,
      "metadata": {
        "id": "Y1XhYzJ_FVSH"
      },
      "outputs": [],
      "source": [
        "# Convert Spark DataFrame to Pandas DataFrame\n",
        "df_Category = Category.toPandas()"
      ]
    },
    {
      "cell_type": "code",
      "execution_count": null,
      "metadata": {
        "colab": {
          "base_uri": "https://localhost:8080/",
          "height": 928
        },
        "id": "pS-sEqWnFlON",
        "outputId": "a68d4eb2-b87e-4645-9500-eba935547be2"
      },
      "outputs": [],
      "source": [
        "# Create a bar chart of the top installed apps\n",
        "plt.figure(figsize=(15, 10))\n",
        "plt.bar(df_Category['Category'][:10], df_Category['sum(Installs)'][:10])\n",
        "plt.title('Category Distribution')\n",
        "plt.xlabel('App Name')\n",
        "plt.ylabel('Category Distribution')\n",
        "plt.xticks(rotation=90)\n",
        "plt.show()\n"
      ]
    },
    {
      "cell_type": "code",
      "execution_count": null,
      "metadata": {
        "colab": {
          "base_uri": "https://localhost:8080/",
          "height": 681
        },
        "id": "9-8sngnhFpJV",
        "outputId": "f2da88df-6834-45c5-ce02-6e452e15f589"
      },
      "outputs": [],
      "source": [
        "# Extracting relevant data for the pie chart\n",
        "top_apps = df_Category['Category'][:10]\n",
        "installs = df_Category['sum(Installs)'][:10]\n",
        "\n",
        "# Create a pie chart of the top installed apps\n",
        "plt.figure(figsize=(10, 8))\n",
        "plt.pie(installs, labels=top_apps, autopct='%1.1f%%', startangle=140)\n",
        "plt.title('Category Distribution')\n",
        "plt.axis('equal')  # Equal aspect ratio ensures that pie is drawn as a circle.\n",
        "plt.show()\n"
      ]
    },
    {
      "cell_type": "markdown",
      "metadata": {
        "id": "PZjzMd-f8zaZ"
      },
      "source": [
        "## Top Paid Apps"
      ]
    },
    {
      "cell_type": "code",
      "execution_count": null,
      "metadata": {
        "id": "30BmTZz585AA"
      },
      "outputs": [],
      "source": [
        "paid = spark.sql(\"SELECT App, SUM(Price) FROM apps WHERE Type = 'Paid' GROUP BY 1 ORDER BY 2 DESC\")\n"
      ]
    },
    {
      "cell_type": "code",
      "execution_count": null,
      "metadata": {
        "colab": {
          "base_uri": "https://localhost:8080/"
        },
        "id": "iXS3ZACVCsyA",
        "outputId": "4beb2bfa-bb89-43ea-f50f-c0409bd0332f"
      },
      "outputs": [],
      "source": [
        "paid.show()"
      ]
    },
    {
      "cell_type": "code",
      "execution_count": null,
      "metadata": {
        "id": "IVCWtCezFa0L"
      },
      "outputs": [],
      "source": [
        "# Convert Spark DataFrame to Pandas DataFrame\n",
        "df_paid = paid.toPandas()"
      ]
    },
    {
      "cell_type": "code",
      "execution_count": null,
      "metadata": {
        "colab": {
          "base_uri": "https://localhost:8080/",
          "height": 922
        },
        "id": "C7uQ3AnYGDxz",
        "outputId": "2578ab29-4dbd-4b7b-dc60-807cb5df0ce1"
      },
      "outputs": [],
      "source": [
        "# Create a bar chart of the top installed apps\n",
        "plt.figure(figsize=(15, 10))\n",
        "plt.bar(df_paid['App'][:10], df_paid['sum(Price)'][:10])\n",
        "plt.title('Top Paid Apps')\n",
        "plt.xlabel('App Name')\n",
        "plt.ylabel('Top Paid Apps')\n",
        "plt.xticks(rotation=90)\n",
        "plt.show()\n"
      ]
    },
    {
      "cell_type": "code",
      "execution_count": null,
      "metadata": {
        "colab": {
          "base_uri": "https://localhost:8080/",
          "height": 681
        },
        "id": "o8NhcSm4GHE9",
        "outputId": "30c9ce30-25f6-4a7d-8988-56e79665cd47"
      },
      "outputs": [],
      "source": [
        "# Extracting relevant data for the pie chart\n",
        "top_apps = df_paid['App'][:10]\n",
        "installs = df_paid['sum(Price)'][:10]\n",
        "\n",
        "# Create a pie chart of the top installed apps\n",
        "plt.figure(figsize=(10, 8))\n",
        "plt.pie(installs, labels=top_apps, autopct='%1.1f%%', startangle=140)\n",
        "plt.title('Top Paid Apps')\n",
        "plt.axis('equal')  # Equal aspect ratio ensures that pie is drawn as a circle.\n",
        "plt.show()\n"
      ]
    },
    {
      "cell_type": "markdown",
      "metadata": {
        "id": "kN9aLm1082P7"
      },
      "source": [
        "## Top Paid Rating Apps\n"
      ]
    },
    {
      "cell_type": "code",
      "execution_count": null,
      "metadata": {
        "id": "KhSIwjVu-eUd"
      },
      "outputs": [],
      "source": [
        "rating_paid = spark.sql(\"SELECT App, SUM(Rating) AS TotalRating FROM apps WHERE Type = 'Paid' GROUP BY App ORDER BY TotalRating DESC\")"
      ]
    },
    {
      "cell_type": "code",
      "execution_count": null,
      "metadata": {
        "colab": {
          "base_uri": "https://localhost:8080/"
        },
        "id": "n1TwrI2lCyOI",
        "outputId": "e845f123-5576-490b-cc17-447dcc2452a0"
      },
      "outputs": [],
      "source": [
        "rating_paid.show()"
      ]
    },
    {
      "cell_type": "code",
      "execution_count": null,
      "metadata": {
        "id": "9N8sIIuQFb5Y"
      },
      "outputs": [],
      "source": [
        "# Convert Spark DataFrame to Pandas DataFrame\n",
        "df_rating_paid = rating_paid.toPandas()"
      ]
    },
    {
      "cell_type": "code",
      "execution_count": null,
      "metadata": {
        "colab": {
          "base_uri": "https://localhost:8080/",
          "height": 1000
        },
        "id": "VYvtoR08GE65",
        "outputId": "885b6df0-56c2-46c8-e134-75a2a679e26a"
      },
      "outputs": [],
      "source": [
        "# Create a bar chart of the top rated paid apps\n",
        "plt.figure(figsize=(15, 10))\n",
        "plt.bar(df_rating_paid['App'][:10], df_rating_paid['TotalRating'][:10])\n",
        "plt.title('Top Rated Paid Apps')\n",
        "plt.xlabel('App Name')\n",
        "plt.ylabel('Total Rating')\n",
        "plt.xticks(rotation=90)\n",
        "plt.show()\n"
      ]
    },
    {
      "cell_type": "code",
      "execution_count": null,
      "metadata": {
        "colab": {
          "base_uri": "https://localhost:8080/",
          "height": 675
        },
        "id": "VUgfQlqFGH8X",
        "outputId": "b96797ba-b054-4d1a-de07-2bd3a2a27e8c"
      },
      "outputs": [],
      "source": [
        "# Extracting relevant data for the pie chart\n",
        "top_apps = df_rating_paid['App'][:10]\n",
        "installs = df_rating_paid['TotalRating'][:10]\n",
        "\n",
        "# Create a pie chart of the top installed apps\n",
        "plt.figure(figsize=(10, 8))\n",
        "plt.pie(installs, labels=top_apps, autopct='%1.1f%%', startangle=140)\n",
        "plt.title('Top Paid Rating Apps')\n",
        "plt.axis('equal')  # Equal aspect ratio ensures that pie is drawn as a circle.\n",
        "plt.show()\n"
      ]
    }
  ],
  "metadata": {
    "colab": {
      "provenance": []
    },
    "kernelspec": {
      "display_name": "Python 3",
      "name": "python3"
    },
    "language_info": {
      "codemirror_mode": {
        "name": "ipython",
        "version": 3
      },
      "file_extension": ".py",
      "mimetype": "text/x-python",
      "name": "python",
      "nbconvert_exporter": "python",
      "pygments_lexer": "ipython3",
      "version": "3.12.1"
    }
  },
  "nbformat": 4,
  "nbformat_minor": 0
}
